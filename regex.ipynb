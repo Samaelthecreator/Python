{
 "cells": [
  {
   "cell_type": "markdown",
   "metadata": {},
   "source": [
    "# Expresiones regulares."
   ]
  },
  {
   "cell_type": "markdown",
   "metadata": {},
   "source": [
    "Las expresiones regulares son una serie de composiciones de caracteres que representan tipos de caracteres, orden y estructura de cadenas.\n",
    "\n",
    "Daremos una introduccion a las expresiones regulares con teoria y práctica."
   ]
  },
  {
   "cell_type": "markdown",
   "metadata": {},
   "source": [
    "Método *search(\"caracter_o_cadena_a_buscar\" , objeto_que_almacena_la_cadena, flags)*:\n",
    "\n",
    "Este método busca la primera ubicación de coincidencia del caracter que tenga como primer argumento, y lo buscará dentro del objeto (cadena de caracter) que tiene como segundo argumento, la tercera representa modificaciones puntuales de la función, por ejemplo la linea:\n",
    "\n",
    "**re.IGNORECASE**\n",
    "\n",
    "*Output*: la función search, si encuentra la cadena a buscar, regresa un objeto con el empatamiento (match), y una coordenada donde la primera coordenada representa la posición numérica de donde empieza la cadena buscada, y el segundo argumento representa la ultima posición donde termina la cadena.\n",
    "\n",
    "Como tercer argumento, marca una indiferencia entre las mayusculas y minusculas, esto quiere decir que, no importa que esten en mayusculas o minusculas, la funcion search hará \"match\" en cualquiera de los dos casos.\n"
   ]
  },
  {
   "cell_type": "markdown",
   "metadata": {},
   "source": [
    "Para utilizar las expresiones regulares necesitamos de importar la libreria *re*"
   ]
  },
  {
   "cell_type": "code",
   "execution_count": 10,
   "metadata": {},
   "outputs": [
    {
     "name": "stdout",
     "output_type": "stream",
     "text": [
      "<re.Match object; span=(4, 5), match=' '>\n",
      "<re.Match object; span=(7, 10), match='tod'>\n",
      "<re.Match object; span=(0, 4), match='Hola'>\n"
     ]
    }
   ],
   "source": [
    "import re \n",
    "\n",
    "cadena = \"Hola a todos, esta es una cadena de caracteres\"\n",
    "#Método search\n",
    "print(re.search(\" \", cadena))\n",
    "print(re.search(\"tod\", cadena))\n",
    "\n",
    "print(re.search(\"hola\",cadena, re.IGNORECASE))\n",
    "\n"
   ]
  },
  {
   "cell_type": "markdown",
   "metadata": {},
   "source": [
    "Método *findall(\"caracter_o_cadena_a_buscar\" , objeto_que_almacena_la_cadena, flags)*: devuelve una lista en donde cada elemento es la palabra buscada, la dimension de la lista es el numero de veces que se encontro la cadena"
   ]
  },
  {
   "cell_type": "code",
   "execution_count": 14,
   "metadata": {},
   "outputs": [
    {
     "name": "stdout",
     "output_type": "stream",
     "text": [
      "['aa']\n",
      "8\n"
     ]
    }
   ],
   "source": [
    "cadena2 = \"aaa a ajsdpo a poajsdopj a\"\n",
    "\n",
    "print(re.findall('aa', cadena2))\n",
    "\n",
    "#Si queremos saber el numero de veces que se repite la letra a:\n",
    "\n",
    "print(len(re.findall('a',cadena2)))"
   ]
  },
  {
   "cell_type": "markdown",
   "metadata": {},
   "source": [
    "# Metacaracteres"
   ]
  },
  {
   "cell_type": "markdown",
   "metadata": {},
   "source": [
    "Los metacaracteres son simbolos que, dependiendo de la posición de uso y su contexto, funcionan como buscadores, agrupadores, etc.\n",
    "\n",
    "Los metacaracteres son los siguientes:\n",
    "\n",
    " **. ^ $ * + ? { } \\ | ( )** \n",
    "\n",
    " "
   ]
  },
  {
   "cell_type": "code",
   "execution_count": 22,
   "metadata": {},
   "outputs": [
    {
     "name": "stdout",
     "output_type": "stream",
     "text": [
      "['a', 'a', 'c', 'a', 'a', 'a', 'b', 'a', 'a']\n",
      "['e', 's', 't', 'a', ' ', 'e', 's', ' ', 'u', 'n', 'a', ' ', 'c', 'a', 'd', 'e', 'n', 'a', ' ', 'a', 'r', 'b', 'i', 't', 'r', 'a', 'r', 'i', 'a', ' ', '1', '2', '3', '2', '4', '1', '3']\n"
     ]
    }
   ],
   "source": [
    "cadena3 = \"esta es una cadena arbitraria 1232413\"\n",
    "\n",
    "#los corchetes [] nos ayudan a agrupar una serie de caracteres que queremos buscar\n",
    "\n",
    "print(re.findall('[a-c]',cadena3))\n",
    "\n",
    "print(re.findall('[^ho]',cadena3))"
   ]
  },
  {
   "cell_type": "markdown",
   "metadata": {},
   "source": [
    "# Secuencias especiales\n",
    "\n",
    "*\\d* : coincide con cualquier digito decimal, es equivalente a la clase *[0-9]*\n",
    "\n",
    "\n",
    "*\\D* : coincide con cualquier caracter que **no** sea un digito, equivale a la clase *[^0-9]*\n",
    "\n",
    "*\\s* : coincide con cualquier caracter de espacio en blanco; esto es equivalente a la clase *[\\t\\n\\r\\f\\u]*\n",
    "\n",
    "*\\S* : equivalente con la clase *[^\\t\\n\\r\\f\\u]*\n",
    "\n",
    "*\\w* : coincide con cualquier caracter alfanumérico, esto es la clase *[^a-zA-z0-9]*"
   ]
  },
  {
   "cell_type": "code",
   "execution_count": 27,
   "metadata": {},
   "outputs": [
    {
     "name": "stdout",
     "output_type": "stream",
     "text": [
      "<re.Match object; span=(30, 31), match='1'>\n",
      "<re.Match object; span=(0, 1), match='e'>\n"
     ]
    }
   ],
   "source": [
    "print(re.search('\\d',cadena3))\n",
    "print(re.search('\\D', cadena3))"
   ]
  }
 ],
 "metadata": {
  "kernelspec": {
   "display_name": "base",
   "language": "python",
   "name": "python3"
  },
  "language_info": {
   "codemirror_mode": {
    "name": "ipython",
    "version": 3
   },
   "file_extension": ".py",
   "mimetype": "text/x-python",
   "name": "python",
   "nbconvert_exporter": "python",
   "pygments_lexer": "ipython3",
   "version": "3.9.13"
  }
 },
 "nbformat": 4,
 "nbformat_minor": 2
}
