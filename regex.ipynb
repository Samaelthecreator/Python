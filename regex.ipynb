{
 "cells": [
  {
   "cell_type": "markdown",
   "metadata": {},
   "source": [
    "# Expresiones regulares."
   ]
  },
  {
   "cell_type": "markdown",
   "metadata": {},
   "source": [
    "Las expresiones regulares son una serie de composiciones de caracteres que representan tipos de caracteres, orden y estructura de cadenas.\n",
    "\n",
    "Daremos una introduccion a las expresiones regulares con teoria y práctica."
   ]
  },
  {
   "cell_type": "markdown",
   "metadata": {},
   "source": [
    "**Existen tres tipos de expresiones**:\n",
    "\n",
    "°Caracteres literales (Literal Characters): Estos carácteres no tienen ninguna función en especial; es decir, coinciden exactamente los\n",
    "caracteres (ej: a)\n",
    "\n",
    "°Metacaracteres (Metacharacters): Estos carácteres tienen una función especial, estos generalmente son *caracteres de coincidencia*\n",
    "cada uno o en conjunto varios de ellos, representa un cierto tipo de caracter o cadena \n",
    "(  **. ^ $ * + ? { } \\ | ( )**  ).\n",
    "\n",
    "°Cuántificadores: Estos carácteres especifican cuantas veces debe de aparecer un elemento ( **, +,{}*).\n",
    "\n",
    "°Clases de caracteres (Character Classes): definen un conjunto de caracteres, ya sean letras, numeros, alfanumericos, etc. (ej: [a-z])\n",
    "\n",
    "°Anclas:  Indican posiciones en las cadenas(en: *^* coincide con el inicio, *$* coincide con el final).\n",
    "\n",
    "°Grupos y referencias: Agrupan parte de una expresión y permiten referirse a ella ( *()*, etc.) "
   ]
  },
  {
   "cell_type": "markdown",
   "metadata": {},
   "source": [
    "Para utilizar las expresiones regulares necesitamos de importar la libreria *re*"
   ]
  },
  {
   "cell_type": "markdown",
   "metadata": {},
   "source": [
    "**Funciones principales del módulo re**.\n",
    "\n",
    "1.- *re.compile()*\n",
    "\n",
    "2.-*re.search(pattern,string)*\n",
    "\n",
    "\n",
    "3.-**re.match(pattern,string)*\n",
    "\n",
    "\n",
    "4.-*re.findall(pattern,string)*\n",
    "\n",
    "\n",
    "5.-*re.sub(pattern,repl,string)*\n",
    "\n",
    "\n",
    "6.-*re.split(pattern,string)*\n",
    "\n",
    "\n",
    "7.-*re.compile(pattern):*\n"
   ]
  },
  {
   "cell_type": "markdown",
   "metadata": {},
   "source": [
    "# Metacaracteres"
   ]
  },
  {
   "cell_type": "markdown",
   "metadata": {},
   "source": [
    "Vamos a dar unos ejemplos de expresiones regulares, utilizando caracteres literales y metacaracteres:"
   ]
  },
  {
   "cell_type": "markdown",
   "metadata": {},
   "source": [
    "Los metacaracteres son simbolos que, dependiendo de la posición de uso y su contexto, funcionan como buscadores, agrupadores, etc.\n",
    "\n",
    "Los metacaracteres son los siguientes:\n",
    "\n",
    " **. ^ $ * + ? { } \\ | ( ) [   ]** \n",
    "\n",
    " "
   ]
  },
  {
   "cell_type": "code",
   "execution_count": 6,
   "metadata": {},
   "outputs": [
    {
     "name": "stdout",
     "output_type": "stream",
     "text": [
      "el res de buscar 'todos' en la cadena: <re.Match object; span=(17, 22), match='todos'>\n",
      "el res de buscar 's ' 's espacio'en la cadena: <re.Match object; span=(10, 12), match='s '>\n",
      "el res de buscar ' s' 's espacio'en la cadena: <re.Match object; span=(9, 11), match='os'>\n",
      "el res de buscar 's    ' 's y 4 espacio'en la cadena: <re.Match object; span=(10, 14), match='s se'>\n",
      "el res de buscar alguna coincidencia de estos elementos con uso de corchetes es: [o ó] es: <re.Match object; span=(9, 10), match='o'>\n",
      "el res de buscar alguna coincidencia de estos elementos con uso del operador concatenacion | es: [o ó] es: <re.Match object; span=(9, 10), match='o'>\n"
     ]
    }
   ],
   "source": [
    "import re\n",
    "#Comenzamos con la función search()\n",
    "#La función search devuelve un objeto match, donde dice donde empieza la primera coincidencia y cual es el objeto coincidente\n",
    "\n",
    "re1 = 'todos'\n",
    "re2 = 's.'      #El punto representa un lugar a buscar, seguido de una letra s en este caso\n",
    "re3 = '.s'      #El punto representa un lugar a buscar, despues de una letra s en este caso\n",
    "re4 = \"s...\"\n",
    "re5 = '[oó]'    #Representa los elementos a buscar dentro del corchete.\n",
    "re6 = 'o|ó'\n",
    "\n",
    "cadena1 = 'Bienvenidos sean todos a este nuevo texto de expresiones regulares'\n",
    "cadena2 = 'expresión regular'\n",
    "\n",
    "\n",
    "print(f\"el res de buscar 'todos' en la cadena: {re.search(re1,cadena1)}\")      \n",
    "\n",
    "print(f\"el res de buscar 's ' 's espacio'en la cadena: {re.search(re2,cadena1)}\")    \n",
    "\n",
    "print(f\"el res de buscar ' s' 's espacio'en la cadena: {re.search(re3,cadena1)}\")   \n",
    "\n",
    "print(f\"el res de buscar 's    ' 's y 4 espacio'en la cadena: {re.search(re4,cadena1)}\")   \n",
    "\n",
    "print(f\"el res de buscar alguna coincidencia de estos elementos con uso de corchetes es: [o ó] es: {re.search(re5,cadena1)}\")\n",
    "\n",
    "print(f\"el res de buscar alguna coincidencia de estos elementos con uso del operador concatenacion | es: [o ó] es: {re.search(re6,cadena1)}\")"
   ]
  },
  {
   "cell_type": "code",
   "execution_count": 14,
   "metadata": {},
   "outputs": [
    {
     "name": "stdout",
     "output_type": "stream",
     "text": [
      "encontrando coincidencias en el inicio de la cadena con el operador ^: <re.Match object; span=(0, 2), match='El'>\n",
      "realizando lo mismo para el operador $ que apriori es de término: None\n",
      "encontrando coincidencias en el fin de la cadena con el operador $: <re.Match object; span=(55, 58), match='era'>\n",
      "realizando lo mismo para el operador ^ que apriori es de incio: None\n"
     ]
    }
   ],
   "source": [
    "#ANCLAS: Operadores ^ y $\n",
    "#Estos operadores nos ayudan a definir la posición en una cadena: ^ al inicio, $ al final.\n",
    "\n",
    "cadena2 = \"El camino al socialismo es a través de la dictadura obrera\"\n",
    "\n",
    "re11 = \"^El\"      #Si el caracter esta al inicio, nos arroja un objeto match, si no nos arroja None\n",
    "re111 = \"El$\"\n",
    "\n",
    "re12 = \"era$\"\n",
    "re122 = \"^ra\"       # Si el carácter esta al final, nos arroja un objeto match, si no, nos arroja un None\n",
    "print(f\"encontrando coincidencias en el inicio de la cadena con el operador ^: {re.search(re11,cadena2)}\")\n",
    "\n",
    "print(f\"realizando lo mismo para el operador $ que apriori es de término: {re.search(re111,cadena2)}\")\n",
    "\n",
    "print(f\"encontrando coincidencias en el fin de la cadena con el operador $: {re.search(re12,cadena2)}\")\n",
    "\n",
    "print(f\"realizando lo mismo para el operador ^ que apriori es de incio: {re.search(re111,cadena2)}\")"
   ]
  },
  {
   "cell_type": "code",
   "execution_count": 30,
   "metadata": {},
   "outputs": [
    {
     "name": "stdout",
     "output_type": "stream",
     "text": [
      "buscando la letra a que puede o no tener acento: <re.Match object; span=(21, 22), match='á'>\n",
      "buscando la letra a que pueda o no estar en mayusculas: <re.Match object; span=(0, 1), match='e'>\n",
      "retorna una coincidencia cuando encuentre un valor entre z y z : <re.Match object; span=(0, 1), match='e'>\n",
      "retorna una coincidencia cuando encuentre un valor entre a y c : <re.Match object; span=(22, 23), match='c'>\n",
      "retorna una coincidencia cuando encuentre un valor numérico entre el 0 y el 4 : <re.Match object; span=(27, 28), match='4'>\n",
      "retorna una coincidencia para los rangos: [a-z] y [0-9] ; <re.Match object; span=(27, 28), match='4'>\n",
      "retorna una coincidencia para los rangos: [a-B] mayusculas y minusculas y [3-12] ; <re.Match object; span=(27, 28), match='4'>\n",
      "la función hara match para el primer caracter que NO sea abc: <re.Match object; span=(0, 1), match='e'>\n"
     ]
    }
   ],
   "source": [
    "#Operador clases: agrupación y rango\n",
    "\n",
    "#Operador []: nos ayuda a determinar un elemento o conjunto de elementos que queremos que se busquen en la cadena:\n",
    "\n",
    "#Metacaracteres dentro de corchetes: \n",
    "#   \\   : caracter de escape general\n",
    "#   ^   : Niega la clase, en caso de que aparezca UNICAMENTE al inicio, si aparece en otro punto dentro del corchete, no se tomara como caracter especial \n",
    "#   -   : Define un rango de caracteres\n",
    "\n",
    "\n",
    "cadena3 = \"eEsto es un ejemplo tácito 4523413\"\n",
    "\n",
    "re3=\"[aá]\"\n",
    "re31 = \"[Ee]\"\n",
    "\n",
    "print(f\"buscando la letra a que puede o no tener acento: {re.search(re3, cadena3)}\")\n",
    "\n",
    "print(f\"buscando la letra a que pueda o no estar en mayusculas: {re.search(re31, cadena3)}\")\n",
    "\n",
    "#Con el operador corchetes podemos definir un rango de valores, representado de la forma:\n",
    "# [valor_inicial-valor_final] : estos valores finales pueden ser letras o numeros. Pueden definirse mas de un rango de valores\n",
    "#dentro de los corchetes.\n",
    "\n",
    "rango1 = \"[a-z]\"  #Busca todas las letras de la a a la z\n",
    "rango2 = \"[a-c]\"  #Busca todas las letras de la a a la c\n",
    "rango3 = \"[0-4]\"  #Busca todos los valores numéricos del 0 al 4\n",
    "\n",
    "print(f\"retorna una coincidencia cuando encuentre un valor entre z y z : {re.search(rango1,cadena3)}\")\n",
    "\n",
    "print(f\"retorna una coincidencia cuando encuentre un valor entre a y c : {re.search(rango2,cadena3)}\")\n",
    "\n",
    "print(f\"retorna una coincidencia cuando encuentre un valor numérico entre el 0 y el 4 : {re.search(rango3,cadena3)}\")\n",
    "\n",
    "#Para mutiples rangos:\n",
    "# [valinran1 - valfinran1valinran2-valfinran2]\n",
    "\n",
    "rango11 = \"[a-z0-9]\"\n",
    "rango12 = \"[c-D3-12]\"\n",
    "\n",
    "print(f\"retorna una coincidencia para los rangos: [a-z] y [0-9] ; {re.search(rango3,cadena3)}\")\n",
    "\n",
    "print(f\"retorna una coincidencia para los rangos: [a-B] mayusculas y minusculas y [3-12] ; {re.search(rango3,cadena3)}\")\n",
    "\n",
    "#Rango negado: el rango negado es encontrar los elementos que NO coincidan con el rango especificado, se utiliza el circunflejo: ^\n",
    "\n",
    "rangocomplemento = \"[^abc]\" #todos los elementos que NO sean abc\n",
    "\n",
    "print(f\"la función hara match para el primer caracter que NO sea abc: {re.search(rangocomplemento,cadena3)}\" )\n",
    "\n",
    "\n"
   ]
  },
  {
   "cell_type": "markdown",
   "metadata": {},
   "source": [
    "# Cuantificadores"
   ]
  },
  {
   "cell_type": "markdown",
   "metadata": {},
   "source": [
    "Especifican cuántas instancias de un carácter, grupo o clase de caracteres coinciden con el caracter previo, de un metacaracter o de una subexpresión.\n",
    "\n",
    "1.- *   ; Busca cero o más veces ({0,}), es decir, busca que el caracter antecesor aparezca de 0 a inf veces.\n",
    "\n",
    "2.- +   ; Busca una o más veces, es equivalente al operador anterior unicamente excluyendo el elemento 0 ({1,}).\n",
    "\n",
    "3.- ?   ; Busca cero o una coincidencia, fuera de este rango no trabaja el operador ({0,1}).\n",
    "\n",
    "4.-{n} ; Busca la cadena o caracter exactamente n veces.\n",
    "\n",
    "5.-{n,}; Busca al menos n veces hasta un valor indeterminado.\n",
    "\n",
    "6.-{n,m}; Busca al menos **n** veces pero no mas de **m** veces."
   ]
  },
  {
   "cell_type": "code",
   "execution_count": 38,
   "metadata": {},
   "outputs": [
    {
     "name": "stdout",
     "output_type": "stream",
     "text": [
      "<re.Match object; span=(0, 4), match='aaaa'>\n",
      "<re.Match object; span=(13, 14), match='o'>\n",
      "<re.Match object; span=(0, 0), match=''>\n",
      "<re.Match object; span=(4, 8), match='AAAA'>\n",
      "<re.Match object; span=(33, 35), match='11'>\n",
      "<re.Match object; span=(12, 13), match='p'>\n"
     ]
    }
   ],
   "source": [
    "# *\n",
    "cadena4 = \"aaaaAAAA ijdpoAPISJDpooqwsd9103901133333333\"\n",
    "\n",
    "c1 = \"a*\"\n",
    "c2 = \"o+\"\n",
    "c3 = \"i?\"\n",
    "c4 = \"A{4}\"\n",
    "c5 = \"1{2,}\"            #Son conjuntos abieertos, es decir, los limites no se toman.\n",
    "c6 = \"p{1,3}\"\n",
    "\n",
    "print(f\"{re.search(c1,cadena4)}\")\n",
    "\n",
    "print(f\"{re.search(c2,cadena4)}\")\n",
    "\n",
    "print(f\"{re.search(c3,cadena4)}\")\n",
    "\n",
    "print(f\"{re.search(c4,cadena4)}\")\n",
    "\n",
    "print(f\"{re.search(c5,cadena4)}\")\n",
    "\n",
    "print(f\"{re.search(c6,cadena4)}\")\n",
    "\n",
    "\n"
   ]
  },
  {
   "cell_type": "markdown",
   "metadata": {},
   "source": [
    "# Secuencias especiales\n",
    "\n",
    "*\\d* : coincide con cualquier digito decimal, es equivalente a la clase *[0-9]*\n",
    "\n",
    "\n",
    "*\\D* : coincide con cualquier caracter que **no** sea un digito, equivale a la clase *[^0-9]*\n",
    "\n",
    "*\\w* : coincide con cualquier caracter alfanumérico más el _, esto es la clase *[a-zA-z0-9]*\n",
    "\n",
    "*\\W* : Ningun caracter alfanumérico (ni _), esto es la clase *[^a-zA-z0-9]*\n",
    "\n",
    "*\\s* : coincide con cualquier caracter de espacio en blanco; esto es equivalente a la clase *[\\t\\n\\r\\f\\u]*\n",
    "\n",
    "*\\S* : Ningun espacio en blanco, esto es quivalente a la clase *[^\\t\\n\\r\\f\\u]*\n",
    "\n",
    "*\\b* : coincide con la cadena vacia, unicamente al principio o al final de una palabra.\n",
    "\n",
    "*\\B* : coincide con la cadena vacia, pero NO al principio o al final de una palabra.\n",
    "\n",
    "*\\A* : caracteres al principio de la cadena.\n",
    "\n",
    "*\\Z* : caracteres al final de la cadena.\n",
    "\n",
    "*\\numero* : contenido del grupo del número indicado, un numero positivo entre 1 y 99.\n",
    "\n",
    "\n",
    "\n"
   ]
  },
  {
   "cell_type": "code",
   "execution_count": 40,
   "metadata": {},
   "outputs": [
    {
     "name": "stdout",
     "output_type": "stream",
     "text": [
      "<re.Match object; span=(41, 42), match='1'>\n",
      "<re.Match object; span=(0, 1), match='I'>\n",
      "<re.Match object; span=(0, 1), match='I'>\n",
      "<re.Match object; span=(2, 3), match=' '>\n",
      "<re.Match object; span=(2, 3), match=' '>\n",
      "<re.Match object; span=(0, 1), match='I'>\n",
      "None\n",
      "<re.Match object; span=(1, 1), match=''>\n",
      "<re.Match object; span=(0, 0), match=''>\n",
      "<re.Match object; span=(70, 70), match=''>\n"
     ]
    }
   ],
   "source": [
    "c1 = \"\\d\"\n",
    "c2 = \"\\D\"\n",
    "c3 = \"\\w\"\n",
    "c4 = \"\\W\"\n",
    "c5 = \"\\s\"            \n",
    "c6 = \"\\S\"\n",
    "c7 = \"\\b\"\n",
    "c8 = \"\\B\"            \n",
    "c9 = \"\\A\"\n",
    "c10 = \"\\Z\"\n",
    "\n",
    "cadena5 = \"IE PQOpiw pqwenjfpoqmdpqefonqp pwmaámsfip1po214 p12i414p1kn24pn1421p,d\"\n",
    "\n",
    "print(f\"{re.search(c1,cadena5)}\")\n",
    "\n",
    "print(f\"{re.search(c2,cadena5)}\")\n",
    "\n",
    "print(f\"{re.search(c3,cadena5)}\")\n",
    "\n",
    "print(f\"{re.search(c4,cadena5)}\")\n",
    "\n",
    "print(f\"{re.search(c5,cadena5)}\")\n",
    "\n",
    "print(f\"{re.search(c6,cadena5)}\")\n",
    "\n",
    "print(f\"{re.search(c7,cadena5)}\")\n",
    "\n",
    "print(f\"{re.search(c8,cadena5)}\")\n",
    "\n",
    "print(f\"{re.search(c9,cadena5)}\")\n",
    "\n",
    "print(f\"{re.search(c10,cadena5)}\")\n"
   ]
  },
  {
   "cell_type": "markdown",
   "metadata": {},
   "source": [
    "# FUNCIONES\n"
   ]
  },
  {
   "cell_type": "markdown",
   "metadata": {},
   "source": [
    "1.- **re.compile()** ; compila un patrón de expresiones regulares en un objeto *regex*, que pueda ser usado par alas coincidencias usando *match()*, *search()* entre otros metodos.\n",
    "\n",
    "2.-**re.scape(pattern)** ; caracteres de espace especiales en el patrón *pattern*, cuando se quiere hacer coincidir una cadena literal arbitraria que puede tener metacaracteres de regex en ella.\n",
    "\n",
    "3.-**re.findall(pattern,string, flags = 0)** ; Devuelve una lista con todas las coincidencias no superpuestas del patrón *pattern*, en la cadena *string*, retorna una lista de cadenas o tuplas.\n",
    "La cadena se escanea de izquierda a derecha y las coincidencias se devuelven en el orden en que se encuentran. Las coincidencias vacias se incluyen en el resultado.\n",
    "El resultado depende del número de grupos detectados en el patrón. Si no hay grupos, devuelve una lista de cadenas que coincidan con el patron completo.\n",
    "\n",
    "4.- **re.finditer(pattern, string, flags = 0)** ; Devuelve un iterador que produce objetos de coincidencia sobre todas las coincidencias no superpuestas para el patrón *pattern* en la cadena *string*. La cadena se analiza de izquierda a derecha y las coincidencias se retornan en el orden en que se encuentran, incluyendo las coincidencias vacias. Si no hay coincidencias devolvera *None*.\n",
    "\n",
    "3.-**re.fullmatch(pattern,string)**; Comprueba si toda la cadena *string* coincide con el patrón *pattern* de la expresión regular, devuelve un objeto match si existe coincidencia, en otro caso retorna *None*.\n",
    "\n",
    "3.-**re.match(pattern,string)** ; Busca si cero o más carácteres al principio de la cadena *string* coinciden con el patrón *pattern* de la expresión regular.\n",
    "Si se quiere localizar una coincidencia en cualquier lugar de la cadena, se debe emplear **search()**.\n",
    "\n",
    "2.-**re.purge()** ; limpia el cache de la expresión regular.\n",
    "\n",
    "\n",
    "3.-**re.search(pattern,string, flags = 0)** ; Examina la cadena *string* buscando la primer coincidencia con la cadena *patern* devolviendo un objeto match si existe coincidencia, si no, retorna *None*.\n",
    "\n",
    "\n",
    "5.-**re.split(pattern,string, maxsplit=0, flags = 0)** ; Devuelve una lista con las ocurrencias que la cadena *string* se ha dividido en cada coincidencia del patrón *pattern*. Si se utilizan paréntesis de captura en el patrón, el texto de todos los grupos en el patrón tambien se devuelvenn como parte de la lista resultante.\n",
    "Si el argumento *maxsplit* es distinto de cero, como muchon se producen el número de divisiones indicado, y el resto de la cadena se devuelve como un elemento final de la lista.\n",
    "\n",
    "\n",
    "6.-**re.sub(pattern,repl,string, count = 0, flags = 0)**;Devuelve la cadena obtenida reemplazando las ocurrencias no superpuestas del patrónn *pattern* en la cadena *string* sustituidas por la cadena de remplazo *repl*.\n",
    "Si el patrón no se encuentra, se devuelve la cadena sin cambios.\n",
    "El argumento *repl* puede ser una cadena o una función; si es una cadena, cualquier barra inversa de escape se procesa. Las referencias inversas, se reemplazan por la subcadena que corresponde al grupo indicado del patrón.\n",
    "Si *repl* es una función, se llama para cada ocurrencia no superpuesta del patrón. La función toma un solo argumento objeton *match*, y retorna la cadena de sustitución.\n",
    "El argumento opcional *count* es el número máximo de ocurrencias de patrones a ser reemplazados; *count* debe ser un número enterno no negativo. Si se omite o es cero, se reemplazan todas las ocurrencias. Las coincidencias vacías del patrón se reemplazan sólo cuando no están adyacentes a una coincidencia vacia anterior.\n",
    "\n",
    "7.-**re.subn(pattern, repl, string, count = 0, flags = 0)**: Similar a *sub()* excepto que devuelve una tupla que contiene la nueva cadena y el numero de sustituciones realizadas.\n",
    "\n"
   ]
  },
  {
   "cell_type": "markdown",
   "metadata": {},
   "source": [
    "Método *search(\"caracter_o_cadena_a_buscar\" , objeto_que_almacena_la_cadena, flags)*:\n",
    "\n",
    "Este método busca la primera ubicación de coincidencia del caracter que tenga como primer argumento, y lo buscará dentro del objeto (cadena de caracter) que tiene como segundo argumento, la tercera representa modificaciones puntuales de la función, por ejemplo la linea:\n",
    "\n",
    "**re.IGNORECASE**\n",
    "\n",
    "*Output*: la función search, si encuentra la cadena a buscar, regresa un objeto con el empatamiento (match), y una coordenada donde la primera coordenada representa la posición numérica de donde empieza la cadena buscada, y el segundo argumento representa la ultima posición donde termina la cadena.\n",
    "\n",
    "Como tercer argumento, marca una indiferencia entre las mayusculas y minusculas, esto quiere decir que, no importa que esten en mayusculas o minusculas, la funcion search hará \"match\" en cualquiera de los dos casos.\n"
   ]
  },
  {
   "cell_type": "markdown",
   "metadata": {},
   "source": [
    "Método *findall(\"caracter_o_cadena_a_buscar\" , objeto_que_almacena_la_cadena, flags)*: devuelve una lista en donde cada elemento es la palabra buscada, la dimension de la lista es el numero de veces que se encontro la cadena"
   ]
  },
  {
   "cell_type": "markdown",
   "metadata": {},
   "source": [
    "Bibliografias y consultas:\n",
    "\n",
    "http://www.tugurium.com/python/index.php?C=PYTHON.18"
   ]
  }
 ],
 "metadata": {
  "kernelspec": {
   "display_name": "base",
   "language": "python",
   "name": "python3"
  },
  "language_info": {
   "codemirror_mode": {
    "name": "ipython",
    "version": 3
   },
   "file_extension": ".py",
   "mimetype": "text/x-python",
   "name": "python",
   "nbconvert_exporter": "python",
   "pygments_lexer": "ipython3",
   "version": "3.9.13"
  }
 },
 "nbformat": 4,
 "nbformat_minor": 2
}
